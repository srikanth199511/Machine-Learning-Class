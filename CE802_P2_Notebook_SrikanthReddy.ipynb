{
 "cells": [
  {
   "cell_type": "markdown",
   "metadata": {},
   "source": [
    "# Introduction\n",
    "\n",
    "The objective of this project is to find if a person will claim his/her insurance or not.\n",
    "\n",
    "Steps:\n",
    "1.Pre-preprocess the data, update the class lable from True/False to 1,0.\n",
    "2. Remove the NULL values with mean/median/mode, KNN. If more than 40% data is NULL, better discard the variable.\n",
    "3. Build a Decision Tree and validate it.\n",
    "4. Build a Logistic Regression/SVM and validate the model.\n",
    "5. Report the performance of all the 3 models and choose one algorithm.\n",
    "6. Take the new test dataset and predict the class values."
   ]
  },
  {
   "cell_type": "code",
   "execution_count": 648,
   "metadata": {},
   "outputs": [],
   "source": [
    "import pandas as pd\n",
    "import numpy as np"
   ]
  },
  {
   "cell_type": "code",
   "execution_count": 970,
   "metadata": {},
   "outputs": [],
   "source": [
    "data=pd.read_csv(r'C:\\Users\\gnr04\\Desktop\\Srikanth\\MS\\Machine Leanrning and Data Mining\\Assignment\\CE802_P2_Data\\CE802_P2_Data.csv')"
   ]
  },
  {
   "cell_type": "code",
   "execution_count": 679,
   "metadata": {},
   "outputs": [],
   "source": [
    "import seaborn as sns\n",
    "import matplotlib.pyplot as plt\n",
    "from sklearn.metrics import accuracy_score\n",
    "from sklearn.metrics import accuracy_score\n",
    "from sklearn.metrics import accuracy_score,precision_score,recall_score,confusion_matrix,classification_report,f1_score"
   ]
  },
  {
   "cell_type": "code",
   "execution_count": 650,
   "metadata": {},
   "outputs": [
    {
     "data": {
      "text/html": [
       "<div>\n",
       "<style scoped>\n",
       "    .dataframe tbody tr th:only-of-type {\n",
       "        vertical-align: middle;\n",
       "    }\n",
       "\n",
       "    .dataframe tbody tr th {\n",
       "        vertical-align: top;\n",
       "    }\n",
       "\n",
       "    .dataframe thead th {\n",
       "        text-align: right;\n",
       "    }\n",
       "</style>\n",
       "<table border=\"1\" class=\"dataframe\">\n",
       "  <thead>\n",
       "    <tr style=\"text-align: right;\">\n",
       "      <th></th>\n",
       "      <th>F1</th>\n",
       "      <th>F2</th>\n",
       "      <th>F3</th>\n",
       "      <th>F4</th>\n",
       "      <th>F5</th>\n",
       "      <th>F6</th>\n",
       "      <th>F7</th>\n",
       "      <th>F8</th>\n",
       "      <th>F9</th>\n",
       "      <th>F10</th>\n",
       "      <th>F11</th>\n",
       "      <th>F12</th>\n",
       "      <th>F13</th>\n",
       "      <th>F14</th>\n",
       "      <th>F15</th>\n",
       "      <th>Class</th>\n",
       "    </tr>\n",
       "  </thead>\n",
       "  <tbody>\n",
       "    <tr>\n",
       "      <th>0</th>\n",
       "      <td>-1</td>\n",
       "      <td>45</td>\n",
       "      <td>-7.97</td>\n",
       "      <td>0.54</td>\n",
       "      <td>3</td>\n",
       "      <td>0.50</td>\n",
       "      <td>-113.34</td>\n",
       "      <td>20.30</td>\n",
       "      <td>9.99</td>\n",
       "      <td>20.50</td>\n",
       "      <td>-5.52</td>\n",
       "      <td>3.60</td>\n",
       "      <td>-466.22</td>\n",
       "      <td>1.88</td>\n",
       "      <td>-7.49</td>\n",
       "      <td>True</td>\n",
       "    </tr>\n",
       "    <tr>\n",
       "      <th>1</th>\n",
       "      <td>1</td>\n",
       "      <td>27</td>\n",
       "      <td>-7.02</td>\n",
       "      <td>1.08</td>\n",
       "      <td>3</td>\n",
       "      <td>0.85</td>\n",
       "      <td>-47.34</td>\n",
       "      <td>20.00</td>\n",
       "      <td>2.88</td>\n",
       "      <td>19.40</td>\n",
       "      <td>-6.49</td>\n",
       "      <td>1.22</td>\n",
       "      <td>-470.22</td>\n",
       "      <td>0.57</td>\n",
       "      <td>NaN</td>\n",
       "      <td>True</td>\n",
       "    </tr>\n",
       "    <tr>\n",
       "      <th>2</th>\n",
       "      <td>-2</td>\n",
       "      <td>0</td>\n",
       "      <td>-8.82</td>\n",
       "      <td>0.56</td>\n",
       "      <td>3</td>\n",
       "      <td>0.45</td>\n",
       "      <td>-152.34</td>\n",
       "      <td>19.62</td>\n",
       "      <td>9.78</td>\n",
       "      <td>20.74</td>\n",
       "      <td>-5.21</td>\n",
       "      <td>2.08</td>\n",
       "      <td>-534.22</td>\n",
       "      <td>5.62</td>\n",
       "      <td>-5.74</td>\n",
       "      <td>False</td>\n",
       "    </tr>\n",
       "    <tr>\n",
       "      <th>3</th>\n",
       "      <td>-14</td>\n",
       "      <td>855</td>\n",
       "      <td>-3.23</td>\n",
       "      <td>12.00</td>\n",
       "      <td>30</td>\n",
       "      <td>7.45</td>\n",
       "      <td>-341.34</td>\n",
       "      <td>34.76</td>\n",
       "      <td>-10.14</td>\n",
       "      <td>14.38</td>\n",
       "      <td>-4.79</td>\n",
       "      <td>-2.52</td>\n",
       "      <td>-846.22</td>\n",
       "      <td>-4.17</td>\n",
       "      <td>NaN</td>\n",
       "      <td>True</td>\n",
       "    </tr>\n",
       "    <tr>\n",
       "      <th>4</th>\n",
       "      <td>-1</td>\n",
       "      <td>39</td>\n",
       "      <td>-8.12</td>\n",
       "      <td>2.88</td>\n",
       "      <td>3</td>\n",
       "      <td>0.76</td>\n",
       "      <td>-53.34</td>\n",
       "      <td>19.08</td>\n",
       "      <td>6.48</td>\n",
       "      <td>22.58</td>\n",
       "      <td>-7.52</td>\n",
       "      <td>1.24</td>\n",
       "      <td>-512.22</td>\n",
       "      <td>2.17</td>\n",
       "      <td>NaN</td>\n",
       "      <td>False</td>\n",
       "    </tr>\n",
       "  </tbody>\n",
       "</table>\n",
       "</div>"
      ],
      "text/plain": [
       "   F1   F2    F3     F4  F5    F6      F7     F8     F9    F10   F11   F12  \\\n",
       "0  -1   45 -7.97   0.54   3  0.50 -113.34  20.30   9.99  20.50 -5.52  3.60   \n",
       "1   1   27 -7.02   1.08   3  0.85  -47.34  20.00   2.88  19.40 -6.49  1.22   \n",
       "2  -2    0 -8.82   0.56   3  0.45 -152.34  19.62   9.78  20.74 -5.21  2.08   \n",
       "3 -14  855 -3.23  12.00  30  7.45 -341.34  34.76 -10.14  14.38 -4.79 -2.52   \n",
       "4  -1   39 -8.12   2.88   3  0.76  -53.34  19.08   6.48  22.58 -7.52  1.24   \n",
       "\n",
       "      F13   F14   F15  Class  \n",
       "0 -466.22  1.88 -7.49   True  \n",
       "1 -470.22  0.57   NaN   True  \n",
       "2 -534.22  5.62 -5.74  False  \n",
       "3 -846.22 -4.17   NaN   True  \n",
       "4 -512.22  2.17   NaN  False  "
      ]
     },
     "execution_count": 650,
     "metadata": {},
     "output_type": "execute_result"
    }
   ],
   "source": [
    "data.head()"
   ]
  },
  {
   "cell_type": "code",
   "execution_count": 651,
   "metadata": {},
   "outputs": [
    {
     "name": "stdout",
     "output_type": "stream",
     "text": [
      "<class 'pandas.core.frame.DataFrame'>\n",
      "RangeIndex: 1500 entries, 0 to 1499\n",
      "Data columns (total 16 columns):\n",
      " #   Column  Non-Null Count  Dtype  \n",
      "---  ------  --------------  -----  \n",
      " 0   F1      1500 non-null   int64  \n",
      " 1   F2      1500 non-null   int64  \n",
      " 2   F3      1500 non-null   float64\n",
      " 3   F4      1500 non-null   float64\n",
      " 4   F5      1500 non-null   int64  \n",
      " 5   F6      1500 non-null   float64\n",
      " 6   F7      1500 non-null   float64\n",
      " 7   F8      1500 non-null   float64\n",
      " 8   F9      1500 non-null   float64\n",
      " 9   F10     1500 non-null   float64\n",
      " 10  F11     1500 non-null   float64\n",
      " 11  F12     1500 non-null   float64\n",
      " 12  F13     1500 non-null   float64\n",
      " 13  F14     1500 non-null   float64\n",
      " 14  F15     750 non-null    float64\n",
      " 15  Class   1500 non-null   bool   \n",
      "dtypes: bool(1), float64(12), int64(3)\n",
      "memory usage: 177.4 KB\n"
     ]
    }
   ],
   "source": [
    "data.info()"
   ]
  },
  {
   "cell_type": "code",
   "execution_count": 652,
   "metadata": {},
   "outputs": [],
   "source": [
    "data['Class']=data['Class'].astype('object')"
   ]
  },
  {
   "cell_type": "code",
   "execution_count": 654,
   "metadata": {},
   "outputs": [],
   "source": [
    "#Changing the class type from Trues and False to 0s and 1s respectively which could be confusing, so lets make True,False as 1,0.\n",
    "data['Class']= pd.factorize(data['Class'])[0]"
   ]
  },
  {
   "cell_type": "code",
   "execution_count": 690,
   "metadata": {},
   "outputs": [],
   "source": [
    "def lable(x):\n",
    "    if x==0:\n",
    "        return 1\n",
    "    else:\n",
    "        return 0"
   ]
  },
  {
   "cell_type": "code",
   "execution_count": 699,
   "metadata": {},
   "outputs": [],
   "source": [
    "#True and False is 1,0 respectively\n",
    "data['Class']=data['Class'].map(lable)"
   ]
  },
  {
   "cell_type": "code",
   "execution_count": 700,
   "metadata": {},
   "outputs": [
    {
     "data": {
      "text/html": [
       "<div>\n",
       "<style scoped>\n",
       "    .dataframe tbody tr th:only-of-type {\n",
       "        vertical-align: middle;\n",
       "    }\n",
       "\n",
       "    .dataframe tbody tr th {\n",
       "        vertical-align: top;\n",
       "    }\n",
       "\n",
       "    .dataframe thead th {\n",
       "        text-align: right;\n",
       "    }\n",
       "</style>\n",
       "<table border=\"1\" class=\"dataframe\">\n",
       "  <thead>\n",
       "    <tr style=\"text-align: right;\">\n",
       "      <th></th>\n",
       "      <th>F1</th>\n",
       "      <th>F2</th>\n",
       "      <th>F3</th>\n",
       "      <th>F4</th>\n",
       "      <th>F5</th>\n",
       "      <th>F6</th>\n",
       "      <th>F7</th>\n",
       "      <th>F8</th>\n",
       "      <th>F9</th>\n",
       "      <th>F10</th>\n",
       "      <th>F11</th>\n",
       "      <th>F12</th>\n",
       "      <th>F13</th>\n",
       "      <th>F14</th>\n",
       "      <th>Class</th>\n",
       "    </tr>\n",
       "  </thead>\n",
       "  <tbody>\n",
       "    <tr>\n",
       "      <th>0</th>\n",
       "      <td>-1</td>\n",
       "      <td>45</td>\n",
       "      <td>-7.97</td>\n",
       "      <td>0.54</td>\n",
       "      <td>3</td>\n",
       "      <td>0.50</td>\n",
       "      <td>-113.34</td>\n",
       "      <td>20.30</td>\n",
       "      <td>9.99</td>\n",
       "      <td>20.50</td>\n",
       "      <td>-5.52</td>\n",
       "      <td>3.60</td>\n",
       "      <td>-466.22</td>\n",
       "      <td>1.88</td>\n",
       "      <td>1</td>\n",
       "    </tr>\n",
       "    <tr>\n",
       "      <th>1</th>\n",
       "      <td>1</td>\n",
       "      <td>27</td>\n",
       "      <td>-7.02</td>\n",
       "      <td>1.08</td>\n",
       "      <td>3</td>\n",
       "      <td>0.85</td>\n",
       "      <td>-47.34</td>\n",
       "      <td>20.00</td>\n",
       "      <td>2.88</td>\n",
       "      <td>19.40</td>\n",
       "      <td>-6.49</td>\n",
       "      <td>1.22</td>\n",
       "      <td>-470.22</td>\n",
       "      <td>0.57</td>\n",
       "      <td>1</td>\n",
       "    </tr>\n",
       "    <tr>\n",
       "      <th>2</th>\n",
       "      <td>-2</td>\n",
       "      <td>0</td>\n",
       "      <td>-8.82</td>\n",
       "      <td>0.56</td>\n",
       "      <td>3</td>\n",
       "      <td>0.45</td>\n",
       "      <td>-152.34</td>\n",
       "      <td>19.62</td>\n",
       "      <td>9.78</td>\n",
       "      <td>20.74</td>\n",
       "      <td>-5.21</td>\n",
       "      <td>2.08</td>\n",
       "      <td>-534.22</td>\n",
       "      <td>5.62</td>\n",
       "      <td>0</td>\n",
       "    </tr>\n",
       "    <tr>\n",
       "      <th>3</th>\n",
       "      <td>-14</td>\n",
       "      <td>855</td>\n",
       "      <td>-3.23</td>\n",
       "      <td>12.00</td>\n",
       "      <td>30</td>\n",
       "      <td>7.45</td>\n",
       "      <td>-341.34</td>\n",
       "      <td>34.76</td>\n",
       "      <td>-10.14</td>\n",
       "      <td>14.38</td>\n",
       "      <td>-4.79</td>\n",
       "      <td>-2.52</td>\n",
       "      <td>-846.22</td>\n",
       "      <td>-4.17</td>\n",
       "      <td>1</td>\n",
       "    </tr>\n",
       "    <tr>\n",
       "      <th>4</th>\n",
       "      <td>-1</td>\n",
       "      <td>39</td>\n",
       "      <td>-8.12</td>\n",
       "      <td>2.88</td>\n",
       "      <td>3</td>\n",
       "      <td>0.76</td>\n",
       "      <td>-53.34</td>\n",
       "      <td>19.08</td>\n",
       "      <td>6.48</td>\n",
       "      <td>22.58</td>\n",
       "      <td>-7.52</td>\n",
       "      <td>1.24</td>\n",
       "      <td>-512.22</td>\n",
       "      <td>2.17</td>\n",
       "      <td>0</td>\n",
       "    </tr>\n",
       "  </tbody>\n",
       "</table>\n",
       "</div>"
      ],
      "text/plain": [
       "   F1   F2    F3     F4  F5    F6      F7     F8     F9    F10   F11   F12  \\\n",
       "0  -1   45 -7.97   0.54   3  0.50 -113.34  20.30   9.99  20.50 -5.52  3.60   \n",
       "1   1   27 -7.02   1.08   3  0.85  -47.34  20.00   2.88  19.40 -6.49  1.22   \n",
       "2  -2    0 -8.82   0.56   3  0.45 -152.34  19.62   9.78  20.74 -5.21  2.08   \n",
       "3 -14  855 -3.23  12.00  30  7.45 -341.34  34.76 -10.14  14.38 -4.79 -2.52   \n",
       "4  -1   39 -8.12   2.88   3  0.76  -53.34  19.08   6.48  22.58 -7.52  1.24   \n",
       "\n",
       "      F13   F14  Class  \n",
       "0 -466.22  1.88      1  \n",
       "1 -470.22  0.57      1  \n",
       "2 -534.22  5.62      0  \n",
       "3 -846.22 -4.17      1  \n",
       "4 -512.22  2.17      0  "
      ]
     },
     "execution_count": 700,
     "metadata": {},
     "output_type": "execute_result"
    }
   ],
   "source": [
    "data.head()"
   ]
  },
  {
   "cell_type": "code",
   "execution_count": 974,
   "metadata": {},
   "outputs": [
    {
     "data": {
      "text/plain": [
       "False    809\n",
       "True     691\n",
       "Name: Class, dtype: int64"
      ]
     },
     "execution_count": 974,
     "metadata": {},
     "output_type": "execute_result"
    }
   ],
   "source": [
    "#There are 809 False and 691 Trues and \n",
    "data['Class'].value_counts()"
   ]
  },
  {
   "cell_type": "code",
   "execution_count": 973,
   "metadata": {},
   "outputs": [
    {
     "data": {
      "text/plain": [
       "F1         0\n",
       "F2         0\n",
       "F3         0\n",
       "F4         0\n",
       "F5         0\n",
       "F6         0\n",
       "F7         0\n",
       "F8         0\n",
       "F9         0\n",
       "F10        0\n",
       "F11        0\n",
       "F12        0\n",
       "F13        0\n",
       "F14        0\n",
       "F15      750\n",
       "Class      0\n",
       "dtype: int64"
      ]
     },
     "execution_count": 973,
     "metadata": {},
     "output_type": "execute_result"
    }
   ],
   "source": [
    "#We have 750 NaNs in the F15 feature.  \n",
    "data.isnull().sum()"
   ]
  },
  {
   "cell_type": "code",
   "execution_count": 706,
   "metadata": {},
   "outputs": [
    {
     "data": {
      "text/plain": [
       "50.0"
      ]
     },
     "execution_count": 706,
     "metadata": {},
     "output_type": "execute_result"
    }
   ],
   "source": [
    "#50% of the feature values are missing, there is no point in doing any kind of imputation, its better to remove the feature.\n",
    "(750/len(data['F15'])*100)"
   ]
  },
  {
   "cell_type": "markdown",
   "metadata": {},
   "source": [
    "### Missing Value Imputation\n",
    "#### Its is important to check the Standard Deviation of the feature before imputation. The aim is to have a closer SD after imputation ."
   ]
  },
  {
   "cell_type": "code",
   "execution_count": 659,
   "metadata": {},
   "outputs": [
    {
     "data": {
      "text/plain": [
       "1.0051168089107672"
      ]
     },
     "execution_count": 659,
     "metadata": {},
     "output_type": "execute_result"
    }
   ],
   "source": [
    "#The standard deviation before the impuation is close to 1\n",
    "data['F15'].std()"
   ]
  },
  {
   "cell_type": "code",
   "execution_count": 952,
   "metadata": {},
   "outputs": [
    {
     "data": {
      "text/plain": [
       "0.7104963992715247"
      ]
     },
     "execution_count": 952,
     "metadata": {},
     "output_type": "execute_result"
    }
   ],
   "source": [
    "# Median Imputation\n",
    "data['F15'].fillna(data['F15'].median(),axis=0).std()"
   ]
  },
  {
   "cell_type": "code",
   "execution_count": 202,
   "metadata": {},
   "outputs": [
    {
     "data": {
      "text/plain": [
       "0.710487805566723"
      ]
     },
     "execution_count": 202,
     "metadata": {},
     "output_type": "execute_result"
    }
   ],
   "source": [
    "# Mean Imputation\n",
    "data['F15'].fillna(data['F15'].mean(),axis=0).std()"
   ]
  },
  {
   "cell_type": "code",
   "execution_count": 210,
   "metadata": {},
   "outputs": [
    {
     "data": {
      "text/plain": [
       "1.0066972973646222"
      ]
     },
     "execution_count": 210,
     "metadata": {},
     "output_type": "execute_result"
    }
   ],
   "source": [
    "# Previous value impuation\n",
    "data['F15'].fillna(method ='pad').std()"
   ]
  },
  {
   "cell_type": "code",
   "execution_count": 228,
   "metadata": {},
   "outputs": [
    {
     "data": {
      "text/plain": [
       "1.0045411402792603"
      ]
     },
     "execution_count": 228,
     "metadata": {},
     "output_type": "execute_result"
    }
   ],
   "source": [
    "# Using the 'bfill'(next value) imputer is proves to be the best since its SD is close to the actual.\n",
    "data['F15'].fillna(method ='bfill').std()"
   ]
  },
  {
   "cell_type": "code",
   "execution_count": 661,
   "metadata": {},
   "outputs": [],
   "source": [
    "del data['F15'] #I have decided to remove this feature as this could take a toll on model's performance."
   ]
  },
  {
   "cell_type": "code",
   "execution_count": 707,
   "metadata": {},
   "outputs": [
    {
     "data": {
      "text/html": [
       "<div>\n",
       "<style scoped>\n",
       "    .dataframe tbody tr th:only-of-type {\n",
       "        vertical-align: middle;\n",
       "    }\n",
       "\n",
       "    .dataframe tbody tr th {\n",
       "        vertical-align: top;\n",
       "    }\n",
       "\n",
       "    .dataframe thead th {\n",
       "        text-align: right;\n",
       "    }\n",
       "</style>\n",
       "<table border=\"1\" class=\"dataframe\">\n",
       "  <thead>\n",
       "    <tr style=\"text-align: right;\">\n",
       "      <th></th>\n",
       "      <th>F1</th>\n",
       "      <th>F2</th>\n",
       "      <th>F3</th>\n",
       "      <th>F4</th>\n",
       "      <th>F5</th>\n",
       "      <th>F6</th>\n",
       "      <th>F7</th>\n",
       "      <th>F8</th>\n",
       "      <th>F9</th>\n",
       "      <th>F10</th>\n",
       "      <th>F11</th>\n",
       "      <th>F12</th>\n",
       "      <th>F13</th>\n",
       "      <th>F14</th>\n",
       "      <th>Class</th>\n",
       "    </tr>\n",
       "  </thead>\n",
       "  <tbody>\n",
       "    <tr>\n",
       "      <th>0</th>\n",
       "      <td>-1</td>\n",
       "      <td>45</td>\n",
       "      <td>-7.97</td>\n",
       "      <td>0.54</td>\n",
       "      <td>3</td>\n",
       "      <td>0.50</td>\n",
       "      <td>-113.34</td>\n",
       "      <td>20.30</td>\n",
       "      <td>9.99</td>\n",
       "      <td>20.50</td>\n",
       "      <td>-5.52</td>\n",
       "      <td>3.60</td>\n",
       "      <td>-466.22</td>\n",
       "      <td>1.88</td>\n",
       "      <td>1</td>\n",
       "    </tr>\n",
       "    <tr>\n",
       "      <th>1</th>\n",
       "      <td>1</td>\n",
       "      <td>27</td>\n",
       "      <td>-7.02</td>\n",
       "      <td>1.08</td>\n",
       "      <td>3</td>\n",
       "      <td>0.85</td>\n",
       "      <td>-47.34</td>\n",
       "      <td>20.00</td>\n",
       "      <td>2.88</td>\n",
       "      <td>19.40</td>\n",
       "      <td>-6.49</td>\n",
       "      <td>1.22</td>\n",
       "      <td>-470.22</td>\n",
       "      <td>0.57</td>\n",
       "      <td>1</td>\n",
       "    </tr>\n",
       "    <tr>\n",
       "      <th>2</th>\n",
       "      <td>-2</td>\n",
       "      <td>0</td>\n",
       "      <td>-8.82</td>\n",
       "      <td>0.56</td>\n",
       "      <td>3</td>\n",
       "      <td>0.45</td>\n",
       "      <td>-152.34</td>\n",
       "      <td>19.62</td>\n",
       "      <td>9.78</td>\n",
       "      <td>20.74</td>\n",
       "      <td>-5.21</td>\n",
       "      <td>2.08</td>\n",
       "      <td>-534.22</td>\n",
       "      <td>5.62</td>\n",
       "      <td>0</td>\n",
       "    </tr>\n",
       "    <tr>\n",
       "      <th>3</th>\n",
       "      <td>-14</td>\n",
       "      <td>855</td>\n",
       "      <td>-3.23</td>\n",
       "      <td>12.00</td>\n",
       "      <td>30</td>\n",
       "      <td>7.45</td>\n",
       "      <td>-341.34</td>\n",
       "      <td>34.76</td>\n",
       "      <td>-10.14</td>\n",
       "      <td>14.38</td>\n",
       "      <td>-4.79</td>\n",
       "      <td>-2.52</td>\n",
       "      <td>-846.22</td>\n",
       "      <td>-4.17</td>\n",
       "      <td>1</td>\n",
       "    </tr>\n",
       "    <tr>\n",
       "      <th>4</th>\n",
       "      <td>-1</td>\n",
       "      <td>39</td>\n",
       "      <td>-8.12</td>\n",
       "      <td>2.88</td>\n",
       "      <td>3</td>\n",
       "      <td>0.76</td>\n",
       "      <td>-53.34</td>\n",
       "      <td>19.08</td>\n",
       "      <td>6.48</td>\n",
       "      <td>22.58</td>\n",
       "      <td>-7.52</td>\n",
       "      <td>1.24</td>\n",
       "      <td>-512.22</td>\n",
       "      <td>2.17</td>\n",
       "      <td>0</td>\n",
       "    </tr>\n",
       "  </tbody>\n",
       "</table>\n",
       "</div>"
      ],
      "text/plain": [
       "   F1   F2    F3     F4  F5    F6      F7     F8     F9    F10   F11   F12  \\\n",
       "0  -1   45 -7.97   0.54   3  0.50 -113.34  20.30   9.99  20.50 -5.52  3.60   \n",
       "1   1   27 -7.02   1.08   3  0.85  -47.34  20.00   2.88  19.40 -6.49  1.22   \n",
       "2  -2    0 -8.82   0.56   3  0.45 -152.34  19.62   9.78  20.74 -5.21  2.08   \n",
       "3 -14  855 -3.23  12.00  30  7.45 -341.34  34.76 -10.14  14.38 -4.79 -2.52   \n",
       "4  -1   39 -8.12   2.88   3  0.76  -53.34  19.08   6.48  22.58 -7.52  1.24   \n",
       "\n",
       "      F13   F14  Class  \n",
       "0 -466.22  1.88      1  \n",
       "1 -470.22  0.57      1  \n",
       "2 -534.22  5.62      0  \n",
       "3 -846.22 -4.17      1  \n",
       "4 -512.22  2.17      0  "
      ]
     },
     "execution_count": 707,
     "metadata": {},
     "output_type": "execute_result"
    }
   ],
   "source": [
    "data.head()"
   ]
  },
  {
   "cell_type": "markdown",
   "metadata": {},
   "source": [
    "## Decision Tree\n",
    "A Decision Tree doesn't need Feature Scaling since it is not impacted by the variance in the data. So no Standardization and Normalization. It is generally useful, when you are solving a system of equations, least squares, etc, where you can have serious issues due to rounding errors. In decision tree, you are just comparing stuff and branching down the tree, so normalization would not help."
   ]
  },
  {
   "cell_type": "code",
   "execution_count": 708,
   "metadata": {},
   "outputs": [],
   "source": [
    "X=data.drop(['Class'], axis=1)"
   ]
  },
  {
   "cell_type": "code",
   "execution_count": 709,
   "metadata": {},
   "outputs": [],
   "source": [
    "y=data['Class']"
   ]
  },
  {
   "cell_type": "code",
   "execution_count": 710,
   "metadata": {},
   "outputs": [
    {
     "data": {
      "text/plain": [
       "((1500, 14), (1500,))"
      ]
     },
     "execution_count": 710,
     "metadata": {},
     "output_type": "execute_result"
    }
   ],
   "source": [
    "X.shape,y.shape"
   ]
  },
  {
   "cell_type": "code",
   "execution_count": 711,
   "metadata": {},
   "outputs": [],
   "source": [
    "from sklearn.model_selection import train_test_split\n",
    "X_train, X_test, y_train, y_test = train_test_split(X, y, test_size=0.2, random_state=0)"
   ]
  },
  {
   "cell_type": "code",
   "execution_count": 712,
   "metadata": {},
   "outputs": [],
   "source": [
    "from sklearn.tree import DecisionTreeClassifier\n",
    "from sklearn.model_selection import RandomizedSearchCV\n",
    "from sklearn.preprocessing import LabelBinarizer"
   ]
  },
  {
   "cell_type": "code",
   "execution_count": 960,
   "metadata": {},
   "outputs": [],
   "source": [
    "# It is very important to find the optimal parameters before applying any algorithm on the data.\n",
    "def tuning(y_train,y_test,X_train,X_test): # Defining a function\n",
    "    lb = LabelBinarizer() \n",
    "    y_train = np.array([number[0] for number in lb.fit_transform(y_train)]) \n",
    "    y_test= np.array([number[0] for number in lb.fit_transform(y_test)])\n",
    "\n",
    "\n",
    "    Dtree =DecisionTreeClassifier(class_weight='balanced') # class_weight is set to 'balanced' because data is imbalanced. We can also give a dict of values if we want.\n",
    "\n",
    "    param = {'max_depth':[1,2,3,4,5,6,7,8,9],'min_samples_split':[10,13,15,18,20,21,22,23,24,25,28,31,35,50],\n",
    "            'criterion':['gini', 'entropy']}\n",
    "    \n",
    "    randomDtree = RandomizedSearchCV(Dtree,param,cv=5,verbose=1,scoring= 'f1',n_jobs=-1) # Since all data is imbalanced, accuracy can't be used as scoring metric, so we can use metrics like precision, recall, f1 or roc_auc.\n",
    "    randomDtree.fit(X_train,y_train)\n",
    "    print(\"Best HyperParameter: \",randomDtree.best_params_) # We get the best C and penality.\n",
    "    print(\"Accuracy Obtained: %.2f%%\"%(randomDtree.best_score_*100))"
   ]
  },
  {
   "cell_type": "code",
   "execution_count": 717,
   "metadata": {},
   "outputs": [
    {
     "name": "stdout",
     "output_type": "stream",
     "text": [
      "Fitting 5 folds for each of 10 candidates, totalling 50 fits\n"
     ]
    },
    {
     "name": "stderr",
     "output_type": "stream",
     "text": [
      "[Parallel(n_jobs=-1)]: Using backend LokyBackend with 8 concurrent workers.\n"
     ]
    },
    {
     "name": "stdout",
     "output_type": "stream",
     "text": [
      "Best HyperParameter:  {'min_samples_split': 15, 'max_depth': 6, 'criterion': 'gini'}\n",
      "Accuracy Obtained: 74.92%\n"
     ]
    },
    {
     "name": "stderr",
     "output_type": "stream",
     "text": [
      "[Parallel(n_jobs=-1)]: Done  50 out of  50 | elapsed:    0.2s finished\n"
     ]
    }
   ],
   "source": [
    "tuning(y_train,y_test,X_train,X_test)"
   ]
  },
  {
   "cell_type": "markdown",
   "metadata": {},
   "source": [
    "Using Random Search, we can see that out model has given a high Minimum Sample Split and a low MaxDepth to avoid overfitting."
   ]
  },
  {
   "cell_type": "code",
   "execution_count": 718,
   "metadata": {},
   "outputs": [],
   "source": [
    "lb = LabelBinarizer() \n",
    "\n",
    "y_train = np.array([number[0] for number in lb.fit_transform(y_train)]) \n",
    "y_test= np.array([number[0] for number in lb.fit_transform(y_test)])\n",
    "\n",
    "Dtree_clf = DecisionTreeClassifier(criterion='gini',max_depth=6, min_samples_split=15, class_weight='balanced') # Using the best parameters obtained by Randomsearch\n",
    "Dtree_clf.fit(X_train,y_train.tolist())\n",
    "Dtree_pred = Dtree_clf.predict(X_test)\n"
   ]
  },
  {
   "cell_type": "code",
   "execution_count": 720,
   "metadata": {},
   "outputs": [
    {
     "name": "stdout",
     "output_type": "stream",
     "text": [
      "Accuracy on test set: 75.667%\n",
      "Precision on test set: 0.730\n",
      "Recall on test set: 0.690\n",
      "F1-Score on test set: 0.709\n"
     ]
    },
    {
     "data": {
      "image/png": "[encoded data removed]",
      "text/plain": [
       "<Figure size 432x288 with 2 Axes>"
      ]
     },
     "metadata": {},
     "output_type": "display_data"
    }
   ],
   "source": [
    "print(\"Accuracy on test set: %0.3f%%\"%(accuracy_score(y_test, Dtree_pred)*100))\n",
    "print(\"Precision on test set: %0.3f\"%(precision_score(y_test, Dtree_pred)))\n",
    "print(\"Recall on test set: %0.3f\"%(recall_score(y_test, Dtree_pred)))\n",
    "print(\"F1-Score on test set: %0.3f\"%(f1_score(y_test, Dtree_pred)))\n",
    "\n",
    "cm = confusion_matrix(y_test, Dtree_pred)\n",
    "class_label = [\"negative\", \"positive\"]\n",
    "df_cm = pd.DataFrame(cm, index = class_label, columns = class_label)\n",
    "sns.heatmap(df_cm, annot = True, fmt = \"d\")\n",
    "plt.title(\"Confusion Matrix\")\n",
    "plt.xlabel(\"Predicted Label\")\n",
    "plt.ylabel(\"True Label\")\n",
    "plt.show()"
   ]
  },
  {
   "cell_type": "markdown",
   "metadata": {},
   "source": [
    "### Now lets try to build a Decision Tree model with 'F15' included(with imputation) "
   ]
  },
  {
   "cell_type": "code",
   "execution_count": null,
   "metadata": {},
   "outputs": [],
   "source": [
    "data=pd.read_csv(r'C:\\Users\\gnr04\\Desktop\\Srikanth\\MS\\Machine Leanrning and Data Mining\\Assignment\\CE802_P2_Data\\CE802_P2_Data.csv')"
   ]
  },
  {
   "cell_type": "code",
   "execution_count": null,
   "metadata": {},
   "outputs": [],
   "source": [
    "data1=data"
   ]
  },
  {
   "cell_type": "code",
   "execution_count": null,
   "metadata": {},
   "outputs": [],
   "source": [
    "data1['F15']=data['F15'].fillna(data['F15'].median(),axis=0)"
   ]
  },
  {
   "cell_type": "code",
   "execution_count": null,
   "metadata": {},
   "outputs": [],
   "source": [
    "data1.head()"
   ]
  },
  {
   "cell_type": "code",
   "execution_count": null,
   "metadata": {},
   "outputs": [],
   "source": [
    "X1=data1.drop(['Class'], axis=1)"
   ]
  },
  {
   "cell_type": "code",
   "execution_count": null,
   "metadata": {},
   "outputs": [],
   "source": [
    "y1=data1['Class']"
   ]
  },
  {
   "cell_type": "code",
   "execution_count": 958,
   "metadata": {},
   "outputs": [],
   "source": [
    "from sklearn.model_selection import train_test_split\n",
    "X_train1, X_test1, y_train1, y_test1 = train_test_split(X1, y1, test_size=0.2, random_state=0)"
   ]
  },
  {
   "cell_type": "code",
   "execution_count": 962,
   "metadata": {},
   "outputs": [
    {
     "name": "stdout",
     "output_type": "stream",
     "text": [
      "Fitting 5 folds for each of 10 candidates, totalling 50 fits\n"
     ]
    },
    {
     "name": "stderr",
     "output_type": "stream",
     "text": [
      "[Parallel(n_jobs=-1)]: Using backend LokyBackend with 8 concurrent workers.\n"
     ]
    },
    {
     "name": "stdout",
     "output_type": "stream",
     "text": [
      "Best HyperParameter:  {'min_samples_split': 31, 'max_depth': 6, 'criterion': 'entropy'}\n",
      "Accuracy Obtained: 77.66%\n"
     ]
    },
    {
     "name": "stderr",
     "output_type": "stream",
     "text": [
      "[Parallel(n_jobs=-1)]: Done  50 out of  50 | elapsed:    0.2s finished\n"
     ]
    }
   ],
   "source": [
    "tuning(y_train1,y_test1,X_train1,X_test1)"
   ]
  },
  {
   "cell_type": "code",
   "execution_count": 964,
   "metadata": {},
   "outputs": [
    {
     "name": "stdout",
     "output_type": "stream",
     "text": [
      "Accuracy on test set: 80.667%\n",
      "Precision on test set: 0.775\n",
      "Recall on test set: 0.775\n",
      "F1-Score on test set: 0.775\n"
     ]
    },
    {
     "data": {
      "image/png": "[encoded data removed]",
      "text/plain": [
       "<Figure size 432x288 with 2 Axes>"
      ]
     },
     "metadata": {},
     "output_type": "display_data"
    }
   ],
   "source": [
    "lb = LabelBinarizer() \n",
    "\n",
    "y_train1 = np.array([number[0] for number in lb.fit_transform(y_train1)]) \n",
    "y_test1= np.array([number[0] for number in lb.fit_transform(y_test1)])\n",
    "\n",
    "Dtree_clf = DecisionTreeClassifier(criterion='entropy',max_depth=6, min_samples_split=31, class_weight='balanced') # Using the best parameters obtained by Randomsearch\n",
    "Dtree_clf.fit(X_train1,y_train1.tolist())\n",
    "Dtree_pred = Dtree_clf.predict(X_test1)\n",
    "\n",
    "print(\"Accuracy on test set: %0.3f%%\"%(accuracy_score(y_test1, Dtree_pred)*100))\n",
    "print(\"Precision on test set: %0.3f\"%(precision_score(y_test1, Dtree_pred)))\n",
    "print(\"Recall on test set: %0.3f\"%(recall_score(y_test1, Dtree_pred)))\n",
    "print(\"F1-Score on test set: %0.3f\"%(f1_score(y_test1, Dtree_pred)))\n",
    "\n",
    "cm = confusion_matrix(y_test1, Dtree_pred)\n",
    "class_label = [\"negative\", \"positive\"]\n",
    "df_cm = pd.DataFrame(cm, index = class_label, columns = class_label)\n",
    "sns.heatmap(df_cm, annot = True, fmt = \"d\")\n",
    "plt.title(\"Confusion Matrix\")\n",
    "plt.xlabel(\"Predicted Label\")\n",
    "plt.ylabel(\"True Label\")\n",
    "plt.show()"
   ]
  },
  {
   "cell_type": "markdown",
   "metadata": {},
   "source": [
    "## Logistic Regression"
   ]
  },
  {
   "cell_type": "code",
   "execution_count": 721,
   "metadata": {},
   "outputs": [],
   "source": [
    "from sklearn import preprocessing \n",
    "from sklearn.preprocessing import StandardScaler\n",
    "\n",
    "X_train=StandardScaler(with_mean=False).fit_transform(X_train)"
   ]
  },
  {
   "cell_type": "code",
   "execution_count": 722,
   "metadata": {},
   "outputs": [
    {
     "data": {
      "text/plain": [
       "(1200, 14)"
      ]
     },
     "execution_count": 722,
     "metadata": {},
     "output_type": "execute_result"
    }
   ],
   "source": [
    "X_train.shape"
   ]
  },
  {
   "cell_type": "code",
   "execution_count": 723,
   "metadata": {},
   "outputs": [
    {
     "data": {
      "text/plain": [
       "(300, 14)"
      ]
     },
     "execution_count": 723,
     "metadata": {},
     "output_type": "execute_result"
    }
   ],
   "source": [
    "X_test=StandardScaler(with_mean=False).fit_transform(X_test)\n",
    "X_test.shape"
   ]
  },
  {
   "cell_type": "code",
   "execution_count": 724,
   "metadata": {},
   "outputs": [
    {
     "name": "stdout",
     "output_type": "stream",
     "text": [
      "Fitting 5 folds for each of 20 candidates, totalling 100 fits\n"
     ]
    },
    {
     "name": "stderr",
     "output_type": "stream",
     "text": [
      "[Parallel(n_jobs=-1)]: Using backend LokyBackend with 8 concurrent workers.\n",
      "[Parallel(n_jobs=-1)]: Done  34 tasks      | elapsed:    2.8s\n",
      "[Parallel(n_jobs=-1)]: Done  85 out of 100 | elapsed:    2.9s remaining:    0.4s\n",
      "[Parallel(n_jobs=-1)]: Done 100 out of 100 | elapsed:    3.0s finished\n",
      "C:\\Users\\gnr04\\anaconda3\\lib\\site-packages\\sklearn\\linear_model\\_logistic.py:762: ConvergenceWarning: lbfgs failed to converge (status=1):\n",
      "STOP: TOTAL NO. of ITERATIONS REACHED LIMIT.\n",
      "\n",
      "Increase the number of iterations (max_iter) or scale the data as shown in:\n",
      "    https://scikit-learn.org/stable/modules/preprocessing.html\n",
      "Please also refer to the documentation for alternative solver options:\n",
      "    https://scikit-learn.org/stable/modules/linear_model.html#logistic-regression\n",
      "  n_iter_i = _check_optimize_result(\n"
     ]
    },
    {
     "name": "stdout",
     "output_type": "stream",
     "text": [
      "Best HyperParameter:  {'C': 50, 'penalty': 'l2'}\n",
      "Best Accuracy: 82.97%\n"
     ]
    }
   ],
   "source": [
    "from sklearn.model_selection import GridSearchCV\n",
    "from sklearn.linear_model import LogisticRegression\n",
    "from sklearn.preprocessing import LabelBinarizer\n",
    "\n",
    "lb = LabelBinarizer() \n",
    "y_train = np.array([number[0] for number in lb.fit_transform(y_train)]) \n",
    "y_test= np.array([number[0] for number in lb.fit_transform(y_test)])\n",
    "\n",
    "\n",
    "lr = LogisticRegression(class_weight='balanced') # class_weight is set to 'balanced' because data is imbalanced. We can also give a dict of values if we want.\n",
    "#params we need to try on classifier\n",
    "param = {'C':[50,10,1,0.1,0.05,0.01,0.005,0.001,0.0005,0.0001], # List of 'C' values. \n",
    "             'penalty':['l1','l2']} # Both the regularization terms.\n",
    "grid_lr = GridSearchCV(lr,param,cv=5,verbose=1,scoring= 'f1',n_jobs=-1) # Since all data is imbalanced, accuracy can't be used as scoring metric, so we can use metrics like precision, recall, f1 or roc_auc.\n",
    "grid_lr.fit(X_train,y_train)\n",
    "print(\"Best HyperParameter: \",grid_lr.best_params_) # We get the best C and penality.\n",
    "print(\"Best Accuracy: %.2f%%\"%(grid_lr.best_score_*100))"
   ]
  },
  {
   "cell_type": "code",
   "execution_count": 805,
   "metadata": {},
   "outputs": [
    {
     "name": "stderr",
     "output_type": "stream",
     "text": [
      "C:\\Users\\gnr04\\anaconda3\\lib\\site-packages\\sklearn\\linear_model\\_logistic.py:762: ConvergenceWarning: lbfgs failed to converge (status=1):\n",
      "STOP: TOTAL NO. of ITERATIONS REACHED LIMIT.\n",
      "\n",
      "Increase the number of iterations (max_iter) or scale the data as shown in:\n",
      "    https://scikit-learn.org/stable/modules/preprocessing.html\n",
      "Please also refer to the documentation for alternative solver options:\n",
      "    https://scikit-learn.org/stable/modules/linear_model.html#logistic-regression\n",
      "  n_iter_i = _check_optimize_result(\n"
     ]
    },
    {
     "name": "stdout",
     "output_type": "stream",
     "text": [
      "Accuracy on test set: 77.333%\n",
      "Precision on test set: 0.667\n",
      "Recall on test set: 0.946\n",
      "F1-Score on test set: 0.782\n"
     ]
    },
    {
     "data": {
      "image/png": "[encoded data removed]",
      "text/plain": [
       "<Figure size 432x288 with 2 Axes>"
      ]
     },
     "metadata": {},
     "output_type": "display_data"
    }
   ],
   "source": [
    "#Testing Accuracy on Test data\n",
    "from sklearn.linear_model import LogisticRegression\n",
    "from sklearn.preprocessing import LabelBinarizer\n",
    "\n",
    "lb = LabelBinarizer()\n",
    "y_train = np.array([number[0] for number in lb.fit_transform(y_train)]) \n",
    "y_test= np.array([number[0] for number in lb.fit_transform(y_test)])\n",
    "\n",
    "lr_clf = LogisticRegression(C= 50, penalty= 'l2') # Using the best parameters obtained by grid search\n",
    "lr_clf.fit(X_train,y_train)\n",
    "lr_pred = lr_clf.predict(X_test)\n",
    "print(\"Accuracy on test set: %0.3f%%\"%(accuracy_score(y_test, lr_pred)*100))\n",
    "print(\"Precision on test set: %0.3f\"%(precision_score(y_test, lr_pred)))\n",
    "print(\"Recall on test set: %0.3f\"%(recall_score(y_test, lr_pred)))\n",
    "print(\"F1-Score on test set: %0.3f\"%(f1_score(y_test, lr_pred)))\n",
    "\n",
    "cm = confusion_matrix(y_test, lr_pred)\n",
    "class_label = [\"negative\", \"positive\"]\n",
    "df_cm = pd.DataFrame(cm, index = class_label, columns = class_label)\n",
    "sns.heatmap(df_cm, annot = True, fmt = \"d\")\n",
    "plt.title(\"Confusion Matrix\")\n",
    "plt.xlabel(\"Predicted Label\")\n",
    "plt.ylabel(\"True Label\")\n",
    "plt.show()"
   ]
  },
  {
   "cell_type": "markdown",
   "metadata": {},
   "source": [
    "### Now lets try Logistic Regression with F15 feature"
   ]
  },
  {
   "cell_type": "code",
   "execution_count": 975,
   "metadata": {},
   "outputs": [],
   "source": [
    "X_train1=StandardScaler(with_mean=False).fit_transform(X_train1)"
   ]
  },
  {
   "cell_type": "code",
   "execution_count": 976,
   "metadata": {},
   "outputs": [],
   "source": [
    "X_test1=StandardScaler(with_mean=False).fit_transform(X_test1)"
   ]
  },
  {
   "cell_type": "code",
   "execution_count": 977,
   "metadata": {},
   "outputs": [
    {
     "name": "stdout",
     "output_type": "stream",
     "text": [
      "Fitting 5 folds for each of 20 candidates, totalling 100 fits\n"
     ]
    },
    {
     "name": "stderr",
     "output_type": "stream",
     "text": [
      "[Parallel(n_jobs=-1)]: Using backend LokyBackend with 8 concurrent workers.\n",
      "[Parallel(n_jobs=-1)]: Done  34 tasks      | elapsed:    2.8s\n",
      "[Parallel(n_jobs=-1)]: Done  85 out of 100 | elapsed:    3.0s remaining:    0.4s\n",
      "[Parallel(n_jobs=-1)]: Done 100 out of 100 | elapsed:    3.0s finished\n"
     ]
    },
    {
     "name": "stdout",
     "output_type": "stream",
     "text": [
      "Best HyperParameter:  {'C': 50, 'penalty': 'l2'}\n",
      "Best Accuracy: 85.47%\n"
     ]
    },
    {
     "name": "stderr",
     "output_type": "stream",
     "text": [
      "C:\\Users\\gnr04\\anaconda3\\lib\\site-packages\\sklearn\\linear_model\\_logistic.py:762: ConvergenceWarning: lbfgs failed to converge (status=1):\n",
      "STOP: TOTAL NO. of ITERATIONS REACHED LIMIT.\n",
      "\n",
      "Increase the number of iterations (max_iter) or scale the data as shown in:\n",
      "    https://scikit-learn.org/stable/modules/preprocessing.html\n",
      "Please also refer to the documentation for alternative solver options:\n",
      "    https://scikit-learn.org/stable/modules/linear_model.html#logistic-regression\n",
      "  n_iter_i = _check_optimize_result(\n"
     ]
    }
   ],
   "source": [
    "from sklearn.model_selection import GridSearchCV\n",
    "from sklearn.linear_model import LogisticRegression\n",
    "from sklearn.preprocessing import LabelBinarizer\n",
    "\n",
    "lb = LabelBinarizer() \n",
    "y_train1 = np.array([number[0] for number in lb.fit_transform(y_train1)]) \n",
    "y_test1= np.array([number[0] for number in lb.fit_transform(y_test1)])\n",
    "\n",
    "\n",
    "lr = LogisticRegression(class_weight='balanced') # class_weight is set to 'balanced' because data is imbalanced. We can also give a dict of values if we want.\n",
    "#params we need to try on classifier\n",
    "param = {'C':[50,10,1,0.1,0.05,0.01,0.005,0.001,0.0005,0.0001], # List of 'C' values. \n",
    "             'penalty':['l1','l2']} # Both the regularization terms.\n",
    "grid_lr = GridSearchCV(lr,param,cv=5,verbose=1,scoring= 'f1',n_jobs=-1) # Since all data is imbalanced, accuracy can't be used as scoring metric, so we can use metrics like precision, recall, f1 or roc_auc.\n",
    "grid_lr.fit(X_train1,y_train1)\n",
    "print(\"Best HyperParameter: \",grid_lr.best_params_) # We get the best C and penality.\n",
    "print(\"Best Accuracy: %.2f%%\"%(grid_lr.best_score_*100))"
   ]
  },
  {
   "cell_type": "code",
   "execution_count": 978,
   "metadata": {},
   "outputs": [
    {
     "name": "stdout",
     "output_type": "stream",
     "text": [
      "Accuracy on test set: 83.667%\n",
      "Precision on test set: 0.753\n",
      "Recall on test set: 0.922\n",
      "F1-Score on test set: 0.829\n"
     ]
    },
    {
     "name": "stderr",
     "output_type": "stream",
     "text": [
      "C:\\Users\\gnr04\\anaconda3\\lib\\site-packages\\sklearn\\linear_model\\_logistic.py:762: ConvergenceWarning: lbfgs failed to converge (status=1):\n",
      "STOP: TOTAL NO. of ITERATIONS REACHED LIMIT.\n",
      "\n",
      "Increase the number of iterations (max_iter) or scale the data as shown in:\n",
      "    https://scikit-learn.org/stable/modules/preprocessing.html\n",
      "Please also refer to the documentation for alternative solver options:\n",
      "    https://scikit-learn.org/stable/modules/linear_model.html#logistic-regression\n",
      "  n_iter_i = _check_optimize_result(\n"
     ]
    },
    {
     "data": {
      "image/png": "[encoded data removed]",
      "text/plain": [
       "<Figure size 432x288 with 2 Axes>"
      ]
     },
     "metadata": {},
     "output_type": "display_data"
    }
   ],
   "source": [
    "from sklearn.linear_model import LogisticRegression\n",
    "from sklearn.preprocessing import LabelBinarizer\n",
    "\n",
    "lb = LabelBinarizer()\n",
    "y_train1 = np.array([number[0] for number in lb.fit_transform(y_train1)]) \n",
    "y_test1= np.array([number[0] for number in lb.fit_transform(y_test1)])\n",
    "\n",
    "lr_clf = LogisticRegression(C= 50, penalty= 'l2') # Using the best parameters obtained by grid search\n",
    "lr_clf.fit(X_train1,y_train1)\n",
    "lr_pred = lr_clf.predict(X_test1)\n",
    "print(\"Accuracy on test set: %0.3f%%\"%(accuracy_score(y_test1, lr_pred)*100))\n",
    "print(\"Precision on test set: %0.3f\"%(precision_score(y_test1, lr_pred)))\n",
    "print(\"Recall on test set: %0.3f\"%(recall_score(y_test1, lr_pred)))\n",
    "print(\"F1-Score on test set: %0.3f\"%(f1_score(y_test1, lr_pred)))\n",
    "\n",
    "cm = confusion_matrix(y_test1, lr_pred)\n",
    "class_label = [\"negative\", \"positive\"]\n",
    "df_cm = pd.DataFrame(cm, index = class_label, columns = class_label)\n",
    "sns.heatmap(df_cm, annot = True, fmt = \"d\")\n",
    "plt.title(\"Confusion Matrix\")\n",
    "plt.xlabel(\"Predicted Label\")\n",
    "plt.ylabel(\"True Label\")\n",
    "plt.show()"
   ]
  },
  {
   "cell_type": "code",
   "execution_count": null,
   "metadata": {},
   "outputs": [],
   "source": []
  },
  {
   "cell_type": "markdown",
   "metadata": {},
   "source": [
    "## SVM "
   ]
  },
  {
   "cell_type": "code",
   "execution_count": 726,
   "metadata": {},
   "outputs": [],
   "source": [
    "from sklearn.linear_model import SGDClassifier\n",
    "from sklearn.preprocessing import LabelBinarizer\n",
    "from sklearn.svm import SVC"
   ]
  },
  {
   "cell_type": "code",
   "execution_count": 729,
   "metadata": {},
   "outputs": [],
   "source": [
    "X_train=StandardScaler(with_mean=False).fit_transform(X_train)"
   ]
  },
  {
   "cell_type": "code",
   "execution_count": 730,
   "metadata": {},
   "outputs": [],
   "source": [
    "X_test=StandardScaler(with_mean=False).fit_transform(X_test)"
   ]
  },
  {
   "cell_type": "code",
   "execution_count": 1008,
   "metadata": {},
   "outputs": [],
   "source": [
    "# It is very important to find the optimal parameters before applying any algorithm on the data.\n",
    "def tuning(y_train,y_test,x_train,x_test): # Defining a function\n",
    "    lb = LabelBinarizer() \n",
    "    y_train = np.array([number[0] for number in lb.fit_transform(y_train)]) \n",
    "    y_test= np.array([number[0] for number in lb.fit_transform(y_test)])\n",
    "\n",
    "\n",
    "    svm_rbf =SVC(kernel='rbf',class_weight='balanced') # class_weight is set to 'balanced' because data is imbalanced. We can also give a dict of values if we want.\n",
    "\n",
    "    param = {'C':[0.0001,0.001,0.05,0.03,0.01,0.5,0.3,0.1,1,3,5,7,10,15,17,20], # List of 'alpha' values. \n",
    "             'gamma':[0.0005,0.0001,0.005,0.001,0.05,0.01,0.5,0.3,0.1]} # the regularization terms.\n",
    "    grid_svm_rbf = RandomizedSearchCV(svm_rbf,param,cv=5,verbose=1,scoring= 'f1_weighted',n_jobs=-1) # Since all data is imbalanced, accuracy can't be used as scoring metric, so we can use metrics like precision, recall, f1 or roc_auc.\n",
    "    grid_svm_rbf.fit(X_train,y_train)\n",
    "    print(\"Best HyperParameter: \",grid_svm_rbf.best_params_) # We get the best C and penality.\n",
    "    print(\"Accuracy Obtained: %.2f%%\"%(grid_svm_rbf.best_score_*100))"
   ]
  },
  {
   "cell_type": "code",
   "execution_count": 1030,
   "metadata": {},
   "outputs": [
    {
     "name": "stdout",
     "output_type": "stream",
     "text": [
      "Fitting 5 folds for each of 10 candidates, totalling 50 fits\n"
     ]
    },
    {
     "name": "stderr",
     "output_type": "stream",
     "text": [
      "[Parallel(n_jobs=-1)]: Using backend LokyBackend with 8 concurrent workers.\n"
     ]
    },
    {
     "name": "stdout",
     "output_type": "stream",
     "text": [
      "Best HyperParameter:  {'gamma': 0.1, 'C': 10}\n",
      "Accuracy Obtained: 85.84%\n"
     ]
    },
    {
     "name": "stderr",
     "output_type": "stream",
     "text": [
      "[Parallel(n_jobs=-1)]: Done  50 out of  50 | elapsed:    0.5s finished\n"
     ]
    }
   ],
   "source": [
    "tuning(y_train,y_test,X_train,X_test)"
   ]
  },
  {
   "cell_type": "code",
   "execution_count": 1031,
   "metadata": {},
   "outputs": [
    {
     "name": "stdout",
     "output_type": "stream",
     "text": [
      "Accuracy on test set: 80.667%\n",
      "Precision on test set: 0.710\n",
      "Recall on test set: 0.930\n",
      "F1-Score on test set: 0.805\n"
     ]
    },
    {
     "data": {
      "image/png": "[encoded data removed]",
      "text/plain": [
       "<Figure size 432x288 with 2 Axes>"
      ]
     },
     "metadata": {},
     "output_type": "display_data"
    }
   ],
   "source": [
    "lb = LabelBinarizer() \n",
    "y_train = np.array([number[0] for number in lb.fit_transform(y_train)]) \n",
    "y_test= np.array([number[0] for number in lb.fit_transform(y_test)])\n",
    "\n",
    "svm_clf = SVC( C= 10,gamma=0.1,class_weight='balanced') # Using the best parameters obtained by grid search\n",
    "svm_clf.fit(X_train,y_train)\n",
    "svm_pred = svm_clf.predict(X_test)\n",
    "print(\"Accuracy on test set: %0.3f%%\"%(accuracy_score(y_test, svm_pred)*100))\n",
    "print(\"Precision on test set: %0.3f\"%(precision_score(y_test, svm_pred)))\n",
    "print(\"Recall on test set: %0.3f\"%(recall_score(y_test, svm_pred)))\n",
    "print(\"F1-Score on test set: %0.3f\"%(f1_score(y_test, svm_pred)))\n",
    "\n",
    "cm = confusion_matrix(y_test, svm_pred)\n",
    "class_label = [\"negative\", \"positive\"]\n",
    "df_cm = pd.DataFrame(cm, index = class_label, columns = class_label)\n",
    "sns.heatmap(df_cm, annot = True, fmt = \"d\")\n",
    "plt.title(\"Confusion Matrix\")\n",
    "plt.xlabel(\"Predicted Label\")\n",
    "plt.ylabel(\"True Label\")\n",
    "plt.show()"
   ]
  },
  {
   "cell_type": "markdown",
   "metadata": {},
   "source": [
    "### SVM with missing value Imputation F15"
   ]
  },
  {
   "cell_type": "code",
   "execution_count": 1046,
   "metadata": {},
   "outputs": [
    {
     "name": "stdout",
     "output_type": "stream",
     "text": [
      "Fitting 5 folds for each of 10 candidates, totalling 50 fits\n"
     ]
    },
    {
     "name": "stderr",
     "output_type": "stream",
     "text": [
      "[Parallel(n_jobs=-1)]: Using backend LokyBackend with 8 concurrent workers.\n"
     ]
    },
    {
     "name": "stdout",
     "output_type": "stream",
     "text": [
      "Best HyperParameter:  {'gamma': 0.1, 'C': 15}\n",
      "Accuracy Obtained: 87.00%\n"
     ]
    },
    {
     "name": "stderr",
     "output_type": "stream",
     "text": [
      "[Parallel(n_jobs=-1)]: Done  50 out of  50 | elapsed:    0.5s finished\n"
     ]
    }
   ],
   "source": [
    "tuning(y_train1,y_test1,X_train1,X_test1)"
   ]
  },
  {
   "cell_type": "code",
   "execution_count": 1047,
   "metadata": {},
   "outputs": [
    {
     "name": "stdout",
     "output_type": "stream",
     "text": [
      "Accuracy on test set: 86.000%\n",
      "Precision on test set: 0.777\n",
      "Recall on test set: 0.946\n",
      "F1-Score on test set: 0.853\n"
     ]
    },
    {
     "data": {
      "image/png": "[encoded data removed]",
      "text/plain": [
       "<Figure size 432x288 with 2 Axes>"
      ]
     },
     "metadata": {},
     "output_type": "display_data"
    }
   ],
   "source": [
    "lb = LabelBinarizer() \n",
    "y_train1 = np.array([number[0] for number in lb.fit_transform(y_train1)]) \n",
    "y_test1= np.array([number[0] for number in lb.fit_transform(y_test1)])\n",
    "\n",
    "svm_clf1 = SVC( C= 15,gamma=0.1,class_weight='balanced') # Using the best parameters obtained by grid search\n",
    "svm_clf1.fit(X_train1,y_train1)\n",
    "svm_pred1 = svm_clf1.predict(X_test1)\n",
    "print(\"Accuracy on test set: %0.3f%%\"%(accuracy_score(y_test1, svm_pred1)*100))\n",
    "print(\"Precision on test set: %0.3f\"%(precision_score(y_test1, svm_pred1)))\n",
    "print(\"Recall on test set: %0.3f\"%(recall_score(y_test1, svm_pred1)))\n",
    "print(\"F1-Score on test set: %0.3f\"%(f1_score(y_test1, svm_pred1)))\n",
    "\n",
    "cm = confusion_matrix(y_test1, svm_pred1)\n",
    "class_label = [\"negative\", \"positive\"]\n",
    "df_cm = pd.DataFrame(cm, index = class_label, columns = class_label)\n",
    "sns.heatmap(df_cm, annot = True, fmt = \"d\")\n",
    "plt.title(\"Confusion Matrix\")\n",
    "plt.xlabel(\"Predicted Label\")\n",
    "plt.ylabel(\"True Label\")\n",
    "plt.show()"
   ]
  },
  {
   "cell_type": "markdown",
   "metadata": {},
   "source": [
    "### Models Summary\n",
    "I am choosing (SVM RBF) to make the prediction on the test(CE802_P3_Test.csv) file. Why?? Because SVM model has an overall good Recall(less False Negative Rate) and Accuracy scores if compared to that of remaining two models.\n",
    "\n",
    "The below table has the results of models without F15 feature. I have discarded that feature. "
   ]
  },
  {
   "cell_type": "code",
   "execution_count": 1032,
   "metadata": {},
   "outputs": [
    {
     "name": "stdout",
     "output_type": "stream",
     "text": [
      "+----+----------------------------+------------+-------------+----------+------------+\n",
      "|    | Algorithm                  | Accuracy   |   Precision |   Recall |   F1-Score |\n",
      "|----+----------------------------+------------+-------------+----------+------------|\n",
      "|  0 | Decision Tree              | 75.66%     |       0.73  |    0.69  |      0.709 |\n",
      "|  1 | Logistic Regression        | 77.333%    |       0.667 |    0.946 |      0.782 |\n",
      "|  2 | Support Vector Machine RBF | 81%        |       0.71  |    0.93  |      0.805 |\n",
      "+----+----------------------------+------------+-------------+----------+------------+\n"
     ]
    }
   ],
   "source": [
    "# The below table has the values of algorithms without 'F15'.\n",
    "\n",
    "from tabulate import tabulate \n",
    "\n",
    "values = {'Algorithm':['Decision Tree', 'Logistic Regression', 'Support Vector Machine RBF'], \n",
    "        'Accuracy':['75.66%','77.333%' ,'81%'], \n",
    "        'Precision':['0.73', '0.667', '0.71'],\n",
    "        'Recall':['0.69','0.946','0.93'],\n",
    "        'F1-Score':['0.709','0.782','0.805']\n",
    "       } \n",
    "\n",
    "df1 = pd.DataFrame(values) \n",
    "  \n",
    "# displaying the DataFrame \n",
    "print(tabulate(df1, headers = 'keys', tablefmt = 'psql')) \n"
   ]
  },
  {
   "cell_type": "markdown",
   "metadata": {},
   "source": [
    "#### Now lets see the results obtained after adding F15 and imputing the missing values."
   ]
  },
  {
   "cell_type": "code",
   "execution_count": 1048,
   "metadata": {},
   "outputs": [
    {
     "name": "stdout",
     "output_type": "stream",
     "text": [
      "+----+----------------------------+------------+-------------+----------+------------+\n",
      "|    | Algorithm                  | Accuracy   |   Precision |   Recall |   F1-Score |\n",
      "|----+----------------------------+------------+-------------+----------+------------|\n",
      "|  0 | Decision Tree              | 80.667%    |       0.775 |    0.775 |      0.775 |\n",
      "|  1 | Logistic Regression        | 83.667%    |       0.753 |    0.922 |      0.829 |\n",
      "|  2 | Support Vector Machine RBF | 86%        |       0.777 |    0.946 |      0.853 |\n",
      "+----+----------------------------+------------+-------------+----------+------------+\n"
     ]
    }
   ],
   "source": [
    "values1 = {'Algorithm':['Decision Tree', 'Logistic Regression', 'Support Vector Machine RBF'], \n",
    "        'Accuracy':['80.667%','83.667%' ,'86%'], \n",
    "        'Precision':['0.775', '0.753', '0.777'],\n",
    "        'Recall':['0.775','0.922','0.946'],\n",
    "        'F1-Score':['0.775','0.829','0.853']\n",
    "       } \n",
    "\n",
    "df2 = pd.DataFrame(values1) \n",
    "  \n",
    "# displaying the DataFrame \n",
    "print(tabulate(df2, headers = 'keys', tablefmt = 'psql')) "
   ]
  },
  {
   "cell_type": "markdown",
   "metadata": {},
   "source": [
    "## 2(b) Prediction on a hold-out test set. I am using SVM to test the model."
   ]
  },
  {
   "cell_type": "code",
   "execution_count": 1049,
   "metadata": {},
   "outputs": [],
   "source": [
    "test=pd.read_csv(r'C:\\Users\\gnr04\\Desktop\\Srikanth\\MS\\Machine Leanrning and Data Mining\\Assignment\\CE802_P2_Data\\CE802_P2_test.csv')"
   ]
  },
  {
   "cell_type": "code",
   "execution_count": 1050,
   "metadata": {},
   "outputs": [],
   "source": [
    "# We have to remove the 'F15','Class' feature from the test set because it doesn't exist in the train testset.\n",
    "del test['F15']\n",
    "del test['Class']"
   ]
  },
  {
   "cell_type": "code",
   "execution_count": 1002,
   "metadata": {},
   "outputs": [
    {
     "data": {
      "text/html": [
       "<div>\n",
       "<style scoped>\n",
       "    .dataframe tbody tr th:only-of-type {\n",
       "        vertical-align: middle;\n",
       "    }\n",
       "\n",
       "    .dataframe tbody tr th {\n",
       "        vertical-align: top;\n",
       "    }\n",
       "\n",
       "    .dataframe thead th {\n",
       "        text-align: right;\n",
       "    }\n",
       "</style>\n",
       "<table border=\"1\" class=\"dataframe\">\n",
       "  <thead>\n",
       "    <tr style=\"text-align: right;\">\n",
       "      <th></th>\n",
       "      <th>F1</th>\n",
       "      <th>F2</th>\n",
       "      <th>F3</th>\n",
       "      <th>F4</th>\n",
       "      <th>F5</th>\n",
       "      <th>F6</th>\n",
       "      <th>F7</th>\n",
       "      <th>F8</th>\n",
       "      <th>F9</th>\n",
       "      <th>F10</th>\n",
       "      <th>F11</th>\n",
       "      <th>F12</th>\n",
       "      <th>F13</th>\n",
       "      <th>F14</th>\n",
       "    </tr>\n",
       "  </thead>\n",
       "  <tbody>\n",
       "    <tr>\n",
       "      <th>0</th>\n",
       "      <td>-4</td>\n",
       "      <td>765</td>\n",
       "      <td>-3.72</td>\n",
       "      <td>26.40</td>\n",
       "      <td>30</td>\n",
       "      <td>5.15</td>\n",
       "      <td>18.66</td>\n",
       "      <td>31.06</td>\n",
       "      <td>-4.80</td>\n",
       "      <td>15.18</td>\n",
       "      <td>-5.05</td>\n",
       "      <td>-6.56</td>\n",
       "      <td>-766.22</td>\n",
       "      <td>-1.98</td>\n",
       "    </tr>\n",
       "    <tr>\n",
       "      <th>1</th>\n",
       "      <td>-3</td>\n",
       "      <td>3</td>\n",
       "      <td>-7.10</td>\n",
       "      <td>1.20</td>\n",
       "      <td>3</td>\n",
       "      <td>0.36</td>\n",
       "      <td>-119.34</td>\n",
       "      <td>20.00</td>\n",
       "      <td>6.39</td>\n",
       "      <td>19.92</td>\n",
       "      <td>-5.29</td>\n",
       "      <td>0.32</td>\n",
       "      <td>-524.22</td>\n",
       "      <td>2.12</td>\n",
       "    </tr>\n",
       "    <tr>\n",
       "      <th>2</th>\n",
       "      <td>-4</td>\n",
       "      <td>735</td>\n",
       "      <td>-1.70</td>\n",
       "      <td>14.50</td>\n",
       "      <td>30</td>\n",
       "      <td>6.50</td>\n",
       "      <td>183.66</td>\n",
       "      <td>37.36</td>\n",
       "      <td>-11.88</td>\n",
       "      <td>11.22</td>\n",
       "      <td>-7.79</td>\n",
       "      <td>-9.64</td>\n",
       "      <td>-776.22</td>\n",
       "      <td>-3.88</td>\n",
       "    </tr>\n",
       "    <tr>\n",
       "      <th>3</th>\n",
       "      <td>-14</td>\n",
       "      <td>90</td>\n",
       "      <td>-2.55</td>\n",
       "      <td>13.30</td>\n",
       "      <td>30</td>\n",
       "      <td>7.95</td>\n",
       "      <td>-236.34</td>\n",
       "      <td>32.06</td>\n",
       "      <td>-3.09</td>\n",
       "      <td>15.86</td>\n",
       "      <td>-4.33</td>\n",
       "      <td>-8.76</td>\n",
       "      <td>-916.22</td>\n",
       "      <td>-3.41</td>\n",
       "    </tr>\n",
       "    <tr>\n",
       "      <th>4</th>\n",
       "      <td>-1</td>\n",
       "      <td>174</td>\n",
       "      <td>-7.63</td>\n",
       "      <td>3.74</td>\n",
       "      <td>3</td>\n",
       "      <td>0.94</td>\n",
       "      <td>-143.34</td>\n",
       "      <td>19.58</td>\n",
       "      <td>11.67</td>\n",
       "      <td>19.62</td>\n",
       "      <td>-7.63</td>\n",
       "      <td>1.12</td>\n",
       "      <td>-506.22</td>\n",
       "      <td>3.08</td>\n",
       "    </tr>\n",
       "  </tbody>\n",
       "</table>\n",
       "</div>"
      ],
      "text/plain": [
       "   F1   F2    F3     F4  F5    F6      F7     F8     F9    F10   F11   F12  \\\n",
       "0  -4  765 -3.72  26.40  30  5.15   18.66  31.06  -4.80  15.18 -5.05 -6.56   \n",
       "1  -3    3 -7.10   1.20   3  0.36 -119.34  20.00   6.39  19.92 -5.29  0.32   \n",
       "2  -4  735 -1.70  14.50  30  6.50  183.66  37.36 -11.88  11.22 -7.79 -9.64   \n",
       "3 -14   90 -2.55  13.30  30  7.95 -236.34  32.06  -3.09  15.86 -4.33 -8.76   \n",
       "4  -1  174 -7.63   3.74   3  0.94 -143.34  19.58  11.67  19.62 -7.63  1.12   \n",
       "\n",
       "      F13   F14  \n",
       "0 -766.22 -1.98  \n",
       "1 -524.22  2.12  \n",
       "2 -776.22 -3.88  \n",
       "3 -916.22 -3.41  \n",
       "4 -506.22  3.08  "
      ]
     },
     "execution_count": 1002,
     "metadata": {},
     "output_type": "execute_result"
    }
   ],
   "source": [
    "test.head()"
   ]
  },
  {
   "cell_type": "code",
   "execution_count": 1051,
   "metadata": {},
   "outputs": [
    {
     "data": {
      "text/plain": [
       "F1     0\n",
       "F2     0\n",
       "F3     0\n",
       "F4     0\n",
       "F5     0\n",
       "F6     0\n",
       "F7     0\n",
       "F8     0\n",
       "F9     0\n",
       "F10    0\n",
       "F11    0\n",
       "F12    0\n",
       "F13    0\n",
       "F14    0\n",
       "dtype: int64"
      ]
     },
     "execution_count": 1051,
     "metadata": {},
     "output_type": "execute_result"
    }
   ],
   "source": [
    "#Checking for NUll values to impute, none found.\n",
    "test.isnull().sum()"
   ]
  },
  {
   "cell_type": "code",
   "execution_count": 1052,
   "metadata": {},
   "outputs": [],
   "source": [
    "##Data Standardizing\n",
    "test_std=StandardScaler(with_mean=False).fit_transform(test)"
   ]
  },
  {
   "cell_type": "code",
   "execution_count": 1057,
   "metadata": {},
   "outputs": [],
   "source": [
    "svm_pred = svm_clf.predict(test_std)"
   ]
  },
  {
   "cell_type": "code",
   "execution_count": 1058,
   "metadata": {},
   "outputs": [
    {
     "data": {
      "text/plain": [
       "array([0, 0, 0, ..., 0, 1, 0])"
      ]
     },
     "execution_count": 1058,
     "metadata": {},
     "output_type": "execute_result"
    }
   ],
   "source": [
    "svm_pred"
   ]
  },
  {
   "cell_type": "code",
   "execution_count": 1059,
   "metadata": {},
   "outputs": [],
   "source": [
    "(unique, counts) = np.unique(svm_pred, return_counts=True)\n",
    "frequencies = np.asarray((unique, counts)).T"
   ]
  },
  {
   "cell_type": "code",
   "execution_count": 1060,
   "metadata": {},
   "outputs": [
    {
     "data": {
      "text/plain": [
       "array([[   0, 1076],\n",
       "       [   1,  424]], dtype=int64)"
      ]
     },
     "execution_count": 1060,
     "metadata": {},
     "output_type": "execute_result"
    }
   ],
   "source": [
    "frequencies"
   ]
  },
  {
   "cell_type": "code",
   "execution_count": 1061,
   "metadata": {},
   "outputs": [],
   "source": [
    "df=pd.DataFrame(svm_pred)"
   ]
  },
  {
   "cell_type": "code",
   "execution_count": 1062,
   "metadata": {},
   "outputs": [],
   "source": [
    "df.columns=['Class']"
   ]
  },
  {
   "cell_type": "code",
   "execution_count": 1063,
   "metadata": {},
   "outputs": [],
   "source": [
    "test['Class']=df['Class'].values"
   ]
  },
  {
   "cell_type": "code",
   "execution_count": 1064,
   "metadata": {},
   "outputs": [
    {
     "data": {
      "text/plain": [
       "0    1076\n",
       "1     424\n",
       "Name: Class, dtype: int64"
      ]
     },
     "execution_count": 1064,
     "metadata": {},
     "output_type": "execute_result"
    }
   ],
   "source": [
    "test['Class'].value_counts()"
   ]
  },
  {
   "cell_type": "code",
   "execution_count": 1065,
   "metadata": {},
   "outputs": [
    {
     "data": {
      "text/html": [
       "<div>\n",
       "<style scoped>\n",
       "    .dataframe tbody tr th:only-of-type {\n",
       "        vertical-align: middle;\n",
       "    }\n",
       "\n",
       "    .dataframe tbody tr th {\n",
       "        vertical-align: top;\n",
       "    }\n",
       "\n",
       "    .dataframe thead th {\n",
       "        text-align: right;\n",
       "    }\n",
       "</style>\n",
       "<table border=\"1\" class=\"dataframe\">\n",
       "  <thead>\n",
       "    <tr style=\"text-align: right;\">\n",
       "      <th></th>\n",
       "      <th>F1</th>\n",
       "      <th>F2</th>\n",
       "      <th>F3</th>\n",
       "      <th>F4</th>\n",
       "      <th>F5</th>\n",
       "      <th>F6</th>\n",
       "      <th>F7</th>\n",
       "      <th>F8</th>\n",
       "      <th>F9</th>\n",
       "      <th>F10</th>\n",
       "      <th>F11</th>\n",
       "      <th>F12</th>\n",
       "      <th>F13</th>\n",
       "      <th>F14</th>\n",
       "      <th>Class</th>\n",
       "    </tr>\n",
       "  </thead>\n",
       "  <tbody>\n",
       "    <tr>\n",
       "      <th>0</th>\n",
       "      <td>-4</td>\n",
       "      <td>765</td>\n",
       "      <td>-3.72</td>\n",
       "      <td>26.40</td>\n",
       "      <td>30</td>\n",
       "      <td>5.15</td>\n",
       "      <td>18.66</td>\n",
       "      <td>31.06</td>\n",
       "      <td>-4.80</td>\n",
       "      <td>15.18</td>\n",
       "      <td>-5.05</td>\n",
       "      <td>-6.56</td>\n",
       "      <td>-766.22</td>\n",
       "      <td>-1.98</td>\n",
       "      <td>0</td>\n",
       "    </tr>\n",
       "    <tr>\n",
       "      <th>1</th>\n",
       "      <td>-3</td>\n",
       "      <td>3</td>\n",
       "      <td>-7.10</td>\n",
       "      <td>1.20</td>\n",
       "      <td>3</td>\n",
       "      <td>0.36</td>\n",
       "      <td>-119.34</td>\n",
       "      <td>20.00</td>\n",
       "      <td>6.39</td>\n",
       "      <td>19.92</td>\n",
       "      <td>-5.29</td>\n",
       "      <td>0.32</td>\n",
       "      <td>-524.22</td>\n",
       "      <td>2.12</td>\n",
       "      <td>0</td>\n",
       "    </tr>\n",
       "    <tr>\n",
       "      <th>2</th>\n",
       "      <td>-4</td>\n",
       "      <td>735</td>\n",
       "      <td>-1.70</td>\n",
       "      <td>14.50</td>\n",
       "      <td>30</td>\n",
       "      <td>6.50</td>\n",
       "      <td>183.66</td>\n",
       "      <td>37.36</td>\n",
       "      <td>-11.88</td>\n",
       "      <td>11.22</td>\n",
       "      <td>-7.79</td>\n",
       "      <td>-9.64</td>\n",
       "      <td>-776.22</td>\n",
       "      <td>-3.88</td>\n",
       "      <td>0</td>\n",
       "    </tr>\n",
       "    <tr>\n",
       "      <th>3</th>\n",
       "      <td>-14</td>\n",
       "      <td>90</td>\n",
       "      <td>-2.55</td>\n",
       "      <td>13.30</td>\n",
       "      <td>30</td>\n",
       "      <td>7.95</td>\n",
       "      <td>-236.34</td>\n",
       "      <td>32.06</td>\n",
       "      <td>-3.09</td>\n",
       "      <td>15.86</td>\n",
       "      <td>-4.33</td>\n",
       "      <td>-8.76</td>\n",
       "      <td>-916.22</td>\n",
       "      <td>-3.41</td>\n",
       "      <td>0</td>\n",
       "    </tr>\n",
       "    <tr>\n",
       "      <th>4</th>\n",
       "      <td>-1</td>\n",
       "      <td>174</td>\n",
       "      <td>-7.63</td>\n",
       "      <td>3.74</td>\n",
       "      <td>3</td>\n",
       "      <td>0.94</td>\n",
       "      <td>-143.34</td>\n",
       "      <td>19.58</td>\n",
       "      <td>11.67</td>\n",
       "      <td>19.62</td>\n",
       "      <td>-7.63</td>\n",
       "      <td>1.12</td>\n",
       "      <td>-506.22</td>\n",
       "      <td>3.08</td>\n",
       "      <td>0</td>\n",
       "    </tr>\n",
       "    <tr>\n",
       "      <th>5</th>\n",
       "      <td>-1</td>\n",
       "      <td>24</td>\n",
       "      <td>-6.67</td>\n",
       "      <td>4.16</td>\n",
       "      <td>3</td>\n",
       "      <td>0.86</td>\n",
       "      <td>-68.34</td>\n",
       "      <td>19.70</td>\n",
       "      <td>7.14</td>\n",
       "      <td>19.32</td>\n",
       "      <td>-5.62</td>\n",
       "      <td>-0.54</td>\n",
       "      <td>-482.22</td>\n",
       "      <td>1.50</td>\n",
       "      <td>1</td>\n",
       "    </tr>\n",
       "    <tr>\n",
       "      <th>6</th>\n",
       "      <td>-4</td>\n",
       "      <td>1155</td>\n",
       "      <td>-1.76</td>\n",
       "      <td>20.10</td>\n",
       "      <td>30</td>\n",
       "      <td>8.25</td>\n",
       "      <td>168.66</td>\n",
       "      <td>33.36</td>\n",
       "      <td>-11.61</td>\n",
       "      <td>12.30</td>\n",
       "      <td>-6.43</td>\n",
       "      <td>-10.34</td>\n",
       "      <td>-576.22</td>\n",
       "      <td>-4.13</td>\n",
       "      <td>0</td>\n",
       "    </tr>\n",
       "    <tr>\n",
       "      <th>7</th>\n",
       "      <td>-3</td>\n",
       "      <td>6</td>\n",
       "      <td>-7.29</td>\n",
       "      <td>3.44</td>\n",
       "      <td>3</td>\n",
       "      <td>0.12</td>\n",
       "      <td>-125.34</td>\n",
       "      <td>19.54</td>\n",
       "      <td>4.74</td>\n",
       "      <td>21.30</td>\n",
       "      <td>-4.99</td>\n",
       "      <td>0.64</td>\n",
       "      <td>-542.22</td>\n",
       "      <td>1.46</td>\n",
       "      <td>0</td>\n",
       "    </tr>\n",
       "    <tr>\n",
       "      <th>8</th>\n",
       "      <td>-14</td>\n",
       "      <td>945</td>\n",
       "      <td>-1.20</td>\n",
       "      <td>12.60</td>\n",
       "      <td>30</td>\n",
       "      <td>7.80</td>\n",
       "      <td>108.66</td>\n",
       "      <td>36.36</td>\n",
       "      <td>-12.51</td>\n",
       "      <td>12.72</td>\n",
       "      <td>-6.62</td>\n",
       "      <td>-10.30</td>\n",
       "      <td>-546.22</td>\n",
       "      <td>-3.74</td>\n",
       "      <td>0</td>\n",
       "    </tr>\n",
       "    <tr>\n",
       "      <th>9</th>\n",
       "      <td>-1</td>\n",
       "      <td>24</td>\n",
       "      <td>-8.46</td>\n",
       "      <td>1.20</td>\n",
       "      <td>3</td>\n",
       "      <td>0.36</td>\n",
       "      <td>-110.34</td>\n",
       "      <td>20.14</td>\n",
       "      <td>5.31</td>\n",
       "      <td>19.88</td>\n",
       "      <td>-5.76</td>\n",
       "      <td>1.04</td>\n",
       "      <td>-510.22</td>\n",
       "      <td>2.73</td>\n",
       "      <td>0</td>\n",
       "    </tr>\n",
       "  </tbody>\n",
       "</table>\n",
       "</div>"
      ],
      "text/plain": [
       "   F1    F2    F3     F4  F5    F6      F7     F8     F9    F10   F11    F12  \\\n",
       "0  -4   765 -3.72  26.40  30  5.15   18.66  31.06  -4.80  15.18 -5.05  -6.56   \n",
       "1  -3     3 -7.10   1.20   3  0.36 -119.34  20.00   6.39  19.92 -5.29   0.32   \n",
       "2  -4   735 -1.70  14.50  30  6.50  183.66  37.36 -11.88  11.22 -7.79  -9.64   \n",
       "3 -14    90 -2.55  13.30  30  7.95 -236.34  32.06  -3.09  15.86 -4.33  -8.76   \n",
       "4  -1   174 -7.63   3.74   3  0.94 -143.34  19.58  11.67  19.62 -7.63   1.12   \n",
       "5  -1    24 -6.67   4.16   3  0.86  -68.34  19.70   7.14  19.32 -5.62  -0.54   \n",
       "6  -4  1155 -1.76  20.10  30  8.25  168.66  33.36 -11.61  12.30 -6.43 -10.34   \n",
       "7  -3     6 -7.29   3.44   3  0.12 -125.34  19.54   4.74  21.30 -4.99   0.64   \n",
       "8 -14   945 -1.20  12.60  30  7.80  108.66  36.36 -12.51  12.72 -6.62 -10.30   \n",
       "9  -1    24 -8.46   1.20   3  0.36 -110.34  20.14   5.31  19.88 -5.76   1.04   \n",
       "\n",
       "      F13   F14  Class  \n",
       "0 -766.22 -1.98      0  \n",
       "1 -524.22  2.12      0  \n",
       "2 -776.22 -3.88      0  \n",
       "3 -916.22 -3.41      0  \n",
       "4 -506.22  3.08      0  \n",
       "5 -482.22  1.50      1  \n",
       "6 -576.22 -4.13      0  \n",
       "7 -542.22  1.46      0  \n",
       "8 -546.22 -3.74      0  \n",
       "9 -510.22  2.73      0  "
      ]
     },
     "execution_count": 1065,
     "metadata": {},
     "output_type": "execute_result"
    }
   ],
   "source": [
    "test.head(10)"
   ]
  },
  {
   "cell_type": "markdown",
   "metadata": {},
   "source": [
    "### Testing with feature F15"
   ]
  },
  {
   "cell_type": "code",
   "execution_count": 1066,
   "metadata": {},
   "outputs": [],
   "source": [
    "test1=pd.read_csv(r'C:\\Users\\gnr04\\Desktop\\Srikanth\\MS\\Machine Leanrning and Data Mining\\Assignment\\CE802_P2_Data\\CE802_P2_test.csv')"
   ]
  },
  {
   "cell_type": "code",
   "execution_count": 1067,
   "metadata": {},
   "outputs": [],
   "source": [
    "del test1['Class']"
   ]
  },
  {
   "cell_type": "code",
   "execution_count": 1068,
   "metadata": {},
   "outputs": [],
   "source": [
    "test1['F15']=data['F15'].fillna(data['F15'].median(),axis=0)"
   ]
  },
  {
   "cell_type": "code",
   "execution_count": 1069,
   "metadata": {},
   "outputs": [],
   "source": [
    "##Data Standardizing\n",
    "test_std1=StandardScaler(with_mean=False).fit_transform(test1)"
   ]
  },
  {
   "cell_type": "code",
   "execution_count": 1087,
   "metadata": {},
   "outputs": [],
   "source": [
    "svm_pred1 = svm_clf1.predict(test_std1)"
   ]
  },
  {
   "cell_type": "code",
   "execution_count": 1089,
   "metadata": {},
   "outputs": [],
   "source": [
    "(unique, counts) = np.unique(svm_pred1, return_counts=True)\n",
    "frequencies = np.asarray((unique, counts)).T"
   ]
  },
  {
   "cell_type": "code",
   "execution_count": 1091,
   "metadata": {},
   "outputs": [
    {
     "data": {
      "text/plain": [
       "array([[   0, 1037],\n",
       "       [   1,  463]], dtype=int64)"
      ]
     },
     "execution_count": 1091,
     "metadata": {},
     "output_type": "execute_result"
    }
   ],
   "source": [
    "frequencies"
   ]
  },
  {
   "cell_type": "code",
   "execution_count": 1096,
   "metadata": {},
   "outputs": [],
   "source": [
    "df1=pd.DataFrame(svm_pred1)\n",
    "df1.columns=['Class1']\n",
    "test['Class1']=df1['Class1'].values"
   ]
  },
  {
   "cell_type": "code",
   "execution_count": 1104,
   "metadata": {},
   "outputs": [
    {
     "data": {
      "text/plain": [
       "0    1037\n",
       "1     463\n",
       "Name: Class1, dtype: int64"
      ]
     },
     "execution_count": 1104,
     "metadata": {},
     "output_type": "execute_result"
    }
   ],
   "source": [
    "test['Class1'].value_counts()"
   ]
  },
  {
   "cell_type": "code",
   "execution_count": 1105,
   "metadata": {},
   "outputs": [
    {
     "data": {
      "text/plain": [
       "0    1076\n",
       "1     424\n",
       "Name: Class, dtype: int64"
      ]
     },
     "execution_count": 1105,
     "metadata": {},
     "output_type": "execute_result"
    }
   ],
   "source": [
    "test['Class'].value_counts()"
   ]
  },
  {
   "cell_type": "code",
   "execution_count": 1106,
   "metadata": {},
   "outputs": [
    {
     "data": {
      "text/html": [
       "<div>\n",
       "<style scoped>\n",
       "    .dataframe tbody tr th:only-of-type {\n",
       "        vertical-align: middle;\n",
       "    }\n",
       "\n",
       "    .dataframe tbody tr th {\n",
       "        vertical-align: top;\n",
       "    }\n",
       "\n",
       "    .dataframe thead th {\n",
       "        text-align: right;\n",
       "    }\n",
       "</style>\n",
       "<table border=\"1\" class=\"dataframe\">\n",
       "  <thead>\n",
       "    <tr style=\"text-align: right;\">\n",
       "      <th></th>\n",
       "      <th>F1</th>\n",
       "      <th>F2</th>\n",
       "      <th>F3</th>\n",
       "      <th>F4</th>\n",
       "      <th>F5</th>\n",
       "      <th>F6</th>\n",
       "      <th>F7</th>\n",
       "      <th>F8</th>\n",
       "      <th>F9</th>\n",
       "      <th>F10</th>\n",
       "      <th>F11</th>\n",
       "      <th>F12</th>\n",
       "      <th>F13</th>\n",
       "      <th>F14</th>\n",
       "      <th>Class</th>\n",
       "      <th>Class1</th>\n",
       "    </tr>\n",
       "  </thead>\n",
       "  <tbody>\n",
       "    <tr>\n",
       "      <th>0</th>\n",
       "      <td>-4</td>\n",
       "      <td>765</td>\n",
       "      <td>-3.72</td>\n",
       "      <td>26.40</td>\n",
       "      <td>30</td>\n",
       "      <td>5.15</td>\n",
       "      <td>18.66</td>\n",
       "      <td>31.06</td>\n",
       "      <td>-4.80</td>\n",
       "      <td>15.18</td>\n",
       "      <td>-5.05</td>\n",
       "      <td>-6.56</td>\n",
       "      <td>-766.22</td>\n",
       "      <td>-1.98</td>\n",
       "      <td>0</td>\n",
       "      <td>0</td>\n",
       "    </tr>\n",
       "    <tr>\n",
       "      <th>1</th>\n",
       "      <td>-3</td>\n",
       "      <td>3</td>\n",
       "      <td>-7.10</td>\n",
       "      <td>1.20</td>\n",
       "      <td>3</td>\n",
       "      <td>0.36</td>\n",
       "      <td>-119.34</td>\n",
       "      <td>20.00</td>\n",
       "      <td>6.39</td>\n",
       "      <td>19.92</td>\n",
       "      <td>-5.29</td>\n",
       "      <td>0.32</td>\n",
       "      <td>-524.22</td>\n",
       "      <td>2.12</td>\n",
       "      <td>0</td>\n",
       "      <td>0</td>\n",
       "    </tr>\n",
       "    <tr>\n",
       "      <th>2</th>\n",
       "      <td>-4</td>\n",
       "      <td>735</td>\n",
       "      <td>-1.70</td>\n",
       "      <td>14.50</td>\n",
       "      <td>30</td>\n",
       "      <td>6.50</td>\n",
       "      <td>183.66</td>\n",
       "      <td>37.36</td>\n",
       "      <td>-11.88</td>\n",
       "      <td>11.22</td>\n",
       "      <td>-7.79</td>\n",
       "      <td>-9.64</td>\n",
       "      <td>-776.22</td>\n",
       "      <td>-3.88</td>\n",
       "      <td>0</td>\n",
       "      <td>0</td>\n",
       "    </tr>\n",
       "    <tr>\n",
       "      <th>3</th>\n",
       "      <td>-14</td>\n",
       "      <td>90</td>\n",
       "      <td>-2.55</td>\n",
       "      <td>13.30</td>\n",
       "      <td>30</td>\n",
       "      <td>7.95</td>\n",
       "      <td>-236.34</td>\n",
       "      <td>32.06</td>\n",
       "      <td>-3.09</td>\n",
       "      <td>15.86</td>\n",
       "      <td>-4.33</td>\n",
       "      <td>-8.76</td>\n",
       "      <td>-916.22</td>\n",
       "      <td>-3.41</td>\n",
       "      <td>0</td>\n",
       "      <td>0</td>\n",
       "    </tr>\n",
       "    <tr>\n",
       "      <th>4</th>\n",
       "      <td>-1</td>\n",
       "      <td>174</td>\n",
       "      <td>-7.63</td>\n",
       "      <td>3.74</td>\n",
       "      <td>3</td>\n",
       "      <td>0.94</td>\n",
       "      <td>-143.34</td>\n",
       "      <td>19.58</td>\n",
       "      <td>11.67</td>\n",
       "      <td>19.62</td>\n",
       "      <td>-7.63</td>\n",
       "      <td>1.12</td>\n",
       "      <td>-506.22</td>\n",
       "      <td>3.08</td>\n",
       "      <td>0</td>\n",
       "      <td>0</td>\n",
       "    </tr>\n",
       "  </tbody>\n",
       "</table>\n",
       "</div>"
      ],
      "text/plain": [
       "   F1   F2    F3     F4  F5    F6      F7     F8     F9    F10   F11   F12  \\\n",
       "0  -4  765 -3.72  26.40  30  5.15   18.66  31.06  -4.80  15.18 -5.05 -6.56   \n",
       "1  -3    3 -7.10   1.20   3  0.36 -119.34  20.00   6.39  19.92 -5.29  0.32   \n",
       "2  -4  735 -1.70  14.50  30  6.50  183.66  37.36 -11.88  11.22 -7.79 -9.64   \n",
       "3 -14   90 -2.55  13.30  30  7.95 -236.34  32.06  -3.09  15.86 -4.33 -8.76   \n",
       "4  -1  174 -7.63   3.74   3  0.94 -143.34  19.58  11.67  19.62 -7.63  1.12   \n",
       "\n",
       "      F13   F14  Class  Class1  \n",
       "0 -766.22 -1.98      0       0  \n",
       "1 -524.22  2.12      0       0  \n",
       "2 -776.22 -3.88      0       0  \n",
       "3 -916.22 -3.41      0       0  \n",
       "4 -506.22  3.08      0       0  "
      ]
     },
     "execution_count": 1106,
     "metadata": {},
     "output_type": "execute_result"
    }
   ],
   "source": [
    "# The 'Class' is the model's result which is built without 'F15' feature and the 'Class1' is the model's result built with 'F15' feature. \n",
    "test.head()"
   ]
  },
  {
   "cell_type": "code",
   "execution_count": 1107,
   "metadata": {},
   "outputs": [],
   "source": [
    "CE802_P2_TestNew=test.to_csv(r'C:\\Users\\gnr04\\Desktop\\Srikanth\\MS\\Machine Leanrning and Data Mining\\Assignment\\CE802_P3_Test2classes.csv')"
   ]
  },
  {
   "cell_type": "code",
   "execution_count": null,
   "metadata": {},
   "outputs": [],
   "source": []
  }
 ],
 "metadata": {
  "kernelspec": {
   "display_name": "Python 3",
   "language": "python",
   "name": "python3"
  },
  "language_info": {
   "codemirror_mode": {
    "name": "ipython",
    "version": 3
   },
   "file_extension": ".py",
   "mimetype": "text/x-python",
   "name": "python",
   "nbconvert_exporter": "python",
   "pygments_lexer": "ipython3",
   "version": "3.8.3"
  }
 },
 "nbformat": 4,
 "nbformat_minor": 4
}
